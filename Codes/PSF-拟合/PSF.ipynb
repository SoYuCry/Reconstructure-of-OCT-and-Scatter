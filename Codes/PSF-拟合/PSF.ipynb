{
 "cells": [
  {
   "cell_type": "code",
   "execution_count": 1,
   "metadata": {},
   "outputs": [],
   "source": [
    "import matplotlib.pyplot as plt\n",
    "from astropy.modeling import models, fitting\n",
    "from astropy.io import fits\n",
    "import numpy as np\n",
    "import cv2"
   ]
  },
  {
   "cell_type": "code",
   "execution_count": 4,
   "metadata": {},
   "outputs": [
    {
     "name": "stdout",
     "output_type": "stream",
     "text": [
      "Model: Gaussian2D\n",
      "Inputs: ('x', 'y')\n",
      "Outputs: ('z',)\n",
      "Model set size: 1\n",
      "Parameters:\n",
      "        amplitude            x_mean      ...      y_stddev            theta        \n",
      "    ------------------ ----------------- ... ----------------- --------------------\n",
      "    1.0463865926548237 3.735523168774692 ... 1.066497376135265 0.043799378999947944\n",
      "\n",
      "\n",
      "3.735523168774692 3.850156504910113 1.519851133930348 1.066497376135265\n"
     ]
    },
    {
     "data": {
      "image/png": "[encoded data removed]",
      "text/plain": [
       "<Figure size 720x360 with 3 Axes>"
      ]
     },
     "metadata": {},
     "output_type": "display_data"
    }
   ],
   "source": [
    "image = fits.getdata('psf.fits')\n",
    "# or\n",
    "# image = cv2.imread('psf.png',-1)\n",
    "\n",
    "image = (image-np.min(image))/(np.max(image)-np.min(image))\n",
    "cents = np.where(image == np.max(image))\n",
    "yp, xp = image.shape\n",
    "#print(cents)\n",
    "\n",
    "# Generate grid of same size like box to put the fit on\n",
    "y, x, = np.mgrid[:yp, :xp]\n",
    "\n",
    "# Declare what function you want to fit to your data\n",
    "f_init = models.Gaussian2D(amplitude=1., x_mean=cents[1][0], y_mean=cents[0][0], x_stddev=1., y_stddev=1.,theta=0)\n",
    "\n",
    "# Declare what fitting function you want to use\n",
    "fit_f = fitting.LevMarLSQFitter()\n",
    "\n",
    "# Fit the model to your data (box)\n",
    "f = fit_f(f_init, x, y, image)\n",
    "\n",
    "print(f)\n",
    "print('\\n')\n",
    "print(f.x_mean.value, f.y_mean.value, f.x_stddev.value, f.y_stddev.value)\n",
    "\n",
    "# Plot the data with the best-fit model\n",
    "fig = plt.figure(figsize=(10, 5), facecolor='white')\n",
    "plt.subplot(1, 3, 1)\n",
    "plt.imshow(image, cmap='gray')\n",
    "plt.title(\"Original\")\n",
    "plt.subplot(1, 3, 2)\n",
    "plt.imshow(f(x, y), cmap='gray')\n",
    "plt.title(\"Gaussian fit\")\n",
    "plt.subplot(1, 3, 3) \n",
    "plt.imshow(image - f(x, y), cmap='gray')\n",
    "plt.title(\"Residual\")\n",
    "plt.show()\n",
    "\n",
    "#fig.savefig('fit2d.png')"
   ]
  }
 ],
 "metadata": {
  "interpreter": {
   "hash": "a1c35f4be40590131237bb41ff5b29adb2cd367d96b4b47dd47d2c1ce06311a8"
  },
  "kernelspec": {
   "display_name": "Python 3.9.13 64-bit (windows store)",
   "language": "python",
   "name": "python3"
  },
  "language_info": {
   "codemirror_mode": {
    "name": "ipython",
    "version": 3
   },
   "file_extension": ".py",
   "mimetype": "text/x-python",
   "name": "python",
   "nbconvert_exporter": "python",
   "pygments_lexer": "ipython3",
   "version": "3.9.13"
  },
  "orig_nbformat": 4
 },
 "nbformat": 4,
 "nbformat_minor": 2
}
